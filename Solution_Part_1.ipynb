{
 "cells": [
  {
   "cell_type": "code",
   "execution_count": 1,
   "metadata": {},
   "outputs": [
    {
     "name": "stderr",
     "output_type": "stream",
     "text": [
      "C:\\Users\\dhrugarg\\AppData\\Local\\Continuum\\anaconda2\\lib\\site-packages\\numpy\\lib\\arraysetops.py:463: FutureWarning: elementwise comparison failed; returning scalar instead, but in the future will perform elementwise comparison\n",
      "  mask |= (ar1 == a)\n"
     ]
    },
    {
     "name": "stdout",
     "output_type": "stream",
     "text": [
      "61489 1148347\n",
      "61489 377386\n"
     ]
    }
   ],
   "source": [
    "import os\n",
    "import pandas as pd\n",
    "import numpy as np\n",
    "from __future__ import division\n",
    "import operator\n",
    "pd.set_option('display.float_format', lambda x: '%.3f' % x)\n",
    "\n",
    "os.getcwd()\n",
    "base_ds = pd.read_csv(os.getcwd() + '\\DS Homework\\meps_base_data.csv',index_col=[0])\n",
    "meds_ds = pd.read_csv(os.getcwd() + '\\DS Homework\\meps_meds.csv',index_col=[0])\n",
    "\n",
    "print len(base_ds),len(meds_ds)\n",
    "\n",
    "# Cleaning the base and meds file\n",
    "# Removing duplicate rows \n",
    "base_ds_2 = base_ds.drop_duplicates().reset_index(drop = True)\n",
    "meds_ds_2 = meds_ds.drop_duplicates().reset_index(drop = True)\n",
    "\n",
    "print len(base_ds_2),len(meds_ds_2)"
   ]
  },
  {
   "cell_type": "markdown",
   "metadata": {},
   "source": [
    "# Data Preperation "
   ]
  },
  {
   "cell_type": "code",
   "execution_count": 2,
   "metadata": {},
   "outputs": [
    {
     "name": "stdout",
     "output_type": "stream",
     "text": [
      "No unique rxnames: 9218 , No unique rxNDCs: 28736\n"
     ]
    },
    {
     "data": {
      "text/html": [
       "<div>\n",
       "<style>\n",
       "    .dataframe thead tr:only-child th {\n",
       "        text-align: right;\n",
       "    }\n",
       "\n",
       "    .dataframe thead th {\n",
       "        text-align: left;\n",
       "    }\n",
       "\n",
       "    .dataframe tbody tr th {\n",
       "        vertical-align: top;\n",
       "    }\n",
       "</style>\n",
       "<table border=\"1\" class=\"dataframe\">\n",
       "  <thead>\n",
       "    <tr style=\"text-align: right;\">\n",
       "      <th></th>\n",
       "      <th>rxName</th>\n",
       "      <th>rxNDC</th>\n",
       "    </tr>\n",
       "  </thead>\n",
       "  <tbody>\n",
       "    <tr>\n",
       "      <th>0</th>\n",
       "      <td>LISINOPRIL</td>\n",
       "      <td>471</td>\n",
       "    </tr>\n",
       "    <tr>\n",
       "      <th>1</th>\n",
       "      <td>SIMVASTATIN</td>\n",
       "      <td>352</td>\n",
       "    </tr>\n",
       "    <tr>\n",
       "      <th>2</th>\n",
       "      <td>METFORMIN</td>\n",
       "      <td>329</td>\n",
       "    </tr>\n",
       "    <tr>\n",
       "      <th>3</th>\n",
       "      <td>IBUPROFEN</td>\n",
       "      <td>321</td>\n",
       "    </tr>\n",
       "    <tr>\n",
       "      <th>4</th>\n",
       "      <td>AMOXICILLIN</td>\n",
       "      <td>289</td>\n",
       "    </tr>\n",
       "  </tbody>\n",
       "</table>\n",
       "</div>"
      ],
      "text/plain": [
       "        rxName  rxNDC\n",
       "0   LISINOPRIL    471\n",
       "1  SIMVASTATIN    352\n",
       "2    METFORMIN    329\n",
       "3    IBUPROFEN    321\n",
       "4  AMOXICILLIN    289"
      ]
     },
     "execution_count": 2,
     "metadata": {},
     "output_type": "execute_result"
    }
   ],
   "source": [
    "# Exploring the data/ Doing some basic checks on the meds_ds\n",
    "\n",
    "# 1- Is there one to one mapping between rxNDC and rx Name\n",
    "print 'No unique rxnames: %d , No unique rxNDCs: %d' %(meds_ds_2['rxName'].nunique() , meds_ds_2['rxNDC'].nunique())\n",
    "a = meds_ds_2.groupby(by = ['rxName'])[['rxNDC']].nunique()\n",
    "b = a.sort_values(by = ['rxNDC'],ascending = False).reset_index()\n",
    "b.head(5)\n",
    "\n",
    "# We can safely assume that there are different NDC's for the same rxname because of different manufacturers.\n",
    "# but the drug is the same. Hence we will consider rxname as the primary key/indicator of a new drug taken rather than\n",
    "# the rxNDC."
   ]
  },
  {
   "cell_type": "code",
   "execution_count": 3,
   "metadata": {},
   "outputs": [
    {
     "name": "stdout",
     "output_type": "stream",
     "text": [
      "id                int64\n",
      "rxStartMonth      int64\n",
      "rxStartYear       int64\n",
      "rxName           object\n",
      "rxNDC             int64\n",
      "rxQuantity      float64\n",
      "rxForm           object\n",
      "dtype: object\n",
      "All except name and form are int or float so no non numerical values wherever not expected\n",
      "\n",
      "                id  rxStartMonth  rxStartYear           rxNDC  rxQuantity\n",
      "count   377386.000    377386.000   377386.000      377386.000  377386.000\n",
      "mean  57169669.514         1.474     1350.421 23458422554.510      63.792\n",
      "std   26972828.695         4.691      942.259 28411146273.798     459.470\n",
      "min   10007101.000        -9.000      -14.000          -9.000      -9.000\n",
      "25%   41502351.750        -1.000       -1.000   169231421.000      30.000\n",
      "50%   70983101.000        -1.000     2006.000   603158558.000      30.000\n",
      "75%   81863102.000         4.000     2009.000 54868499201.000      90.000\n",
      "max   89688102.000        12.000     2011.000 99207074560.000  120000.000\n",
      "\n",
      "Checking if Name and form have numeric values and replacing them with Null/missing indicator\n",
      "String having mispopulated values for rxName : 30\n",
      "String having mispopulated values for rxForm : 4876\n",
      "\n",
      "We can see that apart from id the other 4 variables have negetive values. Logically this dosent make sense so assuming the negetives are missing data and repalcing with null\n",
      "\n",
      "                id  rxStartMonth  rxStartYear           rxNDC  rxQuantity\n",
      "count   377386.000    150560.000   254234.000      376217.000  377237.000\n",
      "mean  57169669.514         6.137     2006.216 23531313720.982      63.821\n",
      "std   26972828.695         3.578        5.624 28425097367.956     459.558\n",
      "min   10007101.000         1.000     1940.000     2080303.000       0.050\n",
      "25%   41502351.750         3.000     2006.000   169750111.000      30.000\n",
      "50%   70983101.000         6.000     2008.000   603221232.000      30.000\n",
      "75%   81863102.000         9.000     2009.000 54868520100.000      90.000\n",
      "max   89688102.000        12.000     2011.000 99207074560.000  120000.000\n",
      "\n",
      "% of missing in each field\n"
     ]
    },
    {
     "data": {
      "text/plain": [
       "id              0.000\n",
       "rxStartMonth   60.105\n",
       "rxStartYear    32.633\n",
       "rxName          0.000\n",
       "rxNDC           0.310\n",
       "rxQuantity      0.039\n",
       "rxForm          0.000\n",
       "dtype: float64"
      ]
     },
     "execution_count": 3,
     "metadata": {},
     "output_type": "execute_result"
    }
   ],
   "source": [
    "# 2a- Checking for erronous data in each of the variables in MEDS data  - \n",
    "#Text vars in numerical cols , negetive values when + ve expected, data length shorter than expected\n",
    "\n",
    "\n",
    "print meds_ds_2.dtypes\n",
    "print 'All except name and form are int or float so no non numerical values wherever not expected'\n",
    "print ('')\n",
    "print meds_ds_2.describe()\n",
    "print ''\n",
    "print 'Checking if Name and form have numeric values and replacing them with Null/missing indicator'\n",
    "\n",
    "for i in ['rxName','rxForm']:\n",
    "    print 'String having mispopulated values for %s : %d' %(i,len(meds_ds_2.loc[pd.to_numeric(meds_ds_2[i], errors='coerce').notnull(),i]))\n",
    "    meds_ds_2.loc[pd.to_numeric(meds_ds_2[i], errors='coerce').notnull(),i]  = 'missing'\n",
    "    \n",
    "    \n",
    "print ''\n",
    "print('We can see that apart from id the other 4 variables have negetive values. Logically this dosent make sense so assuming the negetives are missing data and repalcing with null')\n",
    "\n",
    "meds_ds_3 = meds_ds_2.applymap(lambda x: x if x>0 else np.nan)\n",
    "\n",
    "print ''\n",
    "print meds_ds_3.describe()\n",
    "print ''\n",
    "print '% of missing in each field'\n",
    "((meds_ds_3.isnull().sum()/len(meds_ds_3))*100).apply(round,args = (5,))\n",
    "\n"
   ]
  },
  {
   "cell_type": "code",
   "execution_count": 4,
   "metadata": {},
   "outputs": [
    {
     "name": "stdout",
     "output_type": "stream",
     "text": [
      "                id     panel  pooledWeight       age\n",
      "count    61489.000 61489.000     61489.000 61489.000\n",
      "mean  55346375.618    13.534      5063.702    33.578\n",
      "std   27595919.456     1.061      3815.885    22.888\n",
      "min   10007101.000    12.000       127.710    -1.000\n",
      "25%   40455102.000    13.000      2217.419    14.000\n",
      "50%   49650103.000    14.000      3989.180    32.000\n",
      "75%   81617106.000    14.000      6905.678    51.000\n",
      "max   89688102.000    15.000     38828.154    85.000\n",
      "All 4 Id,panel,weight,age are float/int so non numerical values wherever not expected\n",
      "\n",
      "Of the 4 numeric vars age has negetives which is a data error so replacing with null\n",
      "\n",
      "                id     panel  pooledWeight       age\n",
      "count    61489.000 61489.000     61489.000 58869.000\n",
      "mean  55346375.618    13.534      5063.702    35.102\n",
      "std   27595919.456     1.061      3815.885    22.196\n",
      "min   10007101.000    12.000       127.710     1.000\n",
      "25%   40455102.000    13.000      2217.419    16.000\n",
      "50%   49650103.000    14.000      3989.180    34.000\n",
      "75%   81617106.000    14.000      6905.678    52.000\n",
      "max   89688102.000    15.000     38828.154    85.000\n",
      "Checking if any of the string variables have numeric values and replacing them with Null\n",
      "String having mispopulated values for sex : 0\n",
      "String having mispopulated values for race : 0\n",
      "String having mispopulated values for married : 0\n",
      "String having mispopulated values for highBPDiagnosed : 0\n",
      "String having mispopulated values for diabetesDiagnosed : 0\n",
      "String having mispopulated values for chdDiagnosed : 0\n",
      "String having mispopulated values for miDiagnosed : 0\n",
      "String having mispopulated values for anginaDiagnosed : 0\n",
      "String having mispopulated values for strokeDiagnosed : 0\n",
      "String having mispopulated values for emphysemaDiagnosed : 0\n",
      "String having mispopulated values for asthmaDiagnosed : 0\n",
      "String having mispopulated values for otherHDDiagnosed : 0\n",
      "String having mispopulated values for heartFailureDiagnosed : 0\n",
      "Going through unique values in the string columns to check if the levels make sense or not\n",
      "('sex', array(['Male', 'Female'], dtype=object))\n",
      "('race', array(['White', 'Multiple', 'Asian', 'Black',\n",
      "       'Native Hawaiian/Pacific Islander', 'Amer Indian/Alaska Native'], dtype=object))\n",
      "('married', array(['MARRIED', 'UNDER 16 - INAPPLICABLE', 'NEVER MARRIED',\n",
      "       'INAPPLICABLE', 'DIVORCED', 'WIDOWED', 'DIVORCED IN ROUND',\n",
      "       'MARRIED IN ROUND', 'SEPARATED', 'SEPARATED IN ROUND',\n",
      "       'WIDOWED IN ROUND'], dtype=object))\n",
      "('highBPDiagnosed', array(['Yes', 'No', 'Inapplicable', 'DK', 'not ascertained', 'Refused'], dtype=object))\n",
      "('diabetesDiagnosed', array(['No', 'Inapplicable', 'Yes', 'DK', 'not ascertained', 'Refused'], dtype=object))\n",
      "('chdDiagnosed', array(['No', 'Inapplicable', 'Yes', 'DK', 'not ascertained', 'Refused'], dtype=object))\n",
      "('miDiagnosed', array(['No', 'Inapplicable', 'Yes', 'DK', 'not ascertained', 'Refused'], dtype=object))\n",
      "('anginaDiagnosed', array(['No', 'Inapplicable', 'Yes', 'DK', 'Refused', 'not ascertained'], dtype=object))\n",
      "('strokeDiagnosed', array(['No', 'Inapplicable', 'Yes', 'DK', 'not ascertained', 'Refused'], dtype=object))\n",
      "('emphysemaDiagnosed', array(['No', 'Inapplicable', 'Yes', 'DK', 'not ascertained', 'Refused'], dtype=object))\n",
      "('asthmaDiagnosed', array(['No', 'Yes', 'Inapplicable', 'DK', 'Refused', 'not ascertained'], dtype=object))\n",
      "('otherHDDiagnosed', array(['No', 'Inapplicable', 'Yes', 'DK', 'not ascertained', 'Refused'], dtype=object))\n",
      "('heartFailureDiagnosed', array(['No', 'Yes'], dtype=object))\n",
      "\n",
      "Checking for missing values and replacing with median value for the variable\n",
      "age   4.261\n",
      "dtype: float64\n"
     ]
    }
   ],
   "source": [
    "# 2b- Checking for erronous data in each of the variables in Base data  - \n",
    "\n",
    "print base_ds_2.describe()\n",
    "print 'All 4 Id,panel,weight,age are float/int so non numerical values wherever not expected'\n",
    "print ('')\n",
    "print('Of the 4 numeric vars age has negetives which is a data error so replacing with null')\n",
    "\n",
    "base_ds_3 = base_ds_2.applymap(lambda x: x if x>0 else np.nan)\n",
    "print ''\n",
    "print base_ds_3.describe()\n",
    "\n",
    "\n",
    "print 'Checking if any of the string variables have numeric values and replacing them with Null'\n",
    "\n",
    "for i in list(base_ds_3.columns)[4:]:\n",
    "    print 'String having mispopulated values for %s : %d' %(i,len(base_ds_3.loc\n",
    "                                                                  [pd.to_numeric(base_ds_3[i], errors='coerce').notnull(),i]))\n",
    "    base_ds_3.loc[pd.to_numeric(base_ds_3[i], errors='coerce').notnull(),i]  = np.nan\n",
    "\n",
    "print 'Going through unique values in the string columns to check if the levels make sense or not'\n",
    "\n",
    "for i in list(base_ds_3.columns)[4:]:\n",
    "    print (i,base_ds_3[i].unique())\n",
    "\n",
    "print ''\n",
    "print 'Checking for missing values and replacing with median value for the variable'\n",
    "\n",
    "miss_per = ((base_ds_3.isnull().sum()/len(base_ds_3))*100).apply(round,args = (5,))\n",
    "print miss_per[miss_per >0]\n",
    "\n",
    "base_ds_3.loc[base_ds_3['age'].isnull(),'age'] = base_ds_3['age'].median()"
   ]
  },
  {
   "cell_type": "code",
   "execution_count": 5,
   "metadata": {},
   "outputs": [
    {
     "data": {
      "image/png": "[encoded data removed]",
      "text/plain": [
       "<matplotlib.figure.Figure at 0x1152f048>"
      ]
     },
     "metadata": {},
     "output_type": "display_data"
    },
    {
     "name": "stdout",
     "output_type": "stream",
     "text": [
      "The boxplot shows significant outliers in the rxQuantity variable\n",
      "\n",
      "Using simple z-score based methods to identify outliers as we are dealing with just one variable in the dataset with        potential outliers hence not going for multivariate outlier detection models\n"
     ]
    },
    {
     "data": {
      "image/png": "[encoded data removed]",
      "text/plain": [
       "<matplotlib.figure.Figure at 0xfdf58d0>"
      ]
     },
     "metadata": {},
     "output_type": "display_data"
    },
    {
     "name": "stdout",
     "output_type": "stream",
     "text": [
      "By setting z < 3 we have potentially removed most of the outliers as visible by the boxplot\n",
      "\n",
      "Replacing the outliers with median values\n"
     ]
    }
   ],
   "source": [
    "# More data cleaning \n",
    "# Identifying outliers in the numerical fields in both the datasets\n",
    "# Looking at rxQuantity in Meds data\n",
    "\n",
    "import matplotlib.pyplot as plt\n",
    "meds_ds_3.boxplot(column = 'rxQuantity')\n",
    "plt.show()\n",
    "print 'The boxplot shows significant outliers in the rxQuantity variable'\n",
    "print ''\n",
    "print 'Using simple z-score based methods to identify outliers as we are dealing with just one variable in the dataset with \\\n",
    "       potential outliers hence not going for multivariate outlier detection models'\n",
    "\n",
    "a = meds_ds_3[['rxQuantity']]\n",
    "meds_ds_3['rxQuantity_zsc'] = (a - a.mean())/a.std()\n",
    "meds_ds_3.loc[meds_ds_3['rxQuantity_zsc'] <3,['rxQuantity']].boxplot(column = ['rxQuantity'])\n",
    "plt.show()\n",
    "print ('By setting z < 3 we have potentially removed most of the outliers as visible by the boxplot')\n",
    "print ''\n",
    "print ('Replacing the outliers with median values')\n",
    "meds_ds_3.loc[meds_ds_3['rxQuantity_zsc'] >3,'rxQuantity'] = meds_ds_3['rxQuantity'].median()"
   ]
  },
  {
   "cell_type": "code",
   "execution_count": 6,
   "metadata": {},
   "outputs": [
    {
     "name": "stdout",
     "output_type": "stream",
     "text": [
      "For age all the data lies within the whiskers for the boxplot hence no potential outliers to remove\n"
     ]
    },
    {
     "data": {
      "image/png": "[encoded data removed]",
      "text/plain": [
       "<matplotlib.figure.Figure at 0x19cd16a0>"
      ]
     },
     "metadata": {},
     "output_type": "display_data"
    },
    {
     "data": {
      "image/png": "[encoded data removed]",
      "text/plain": [
       "<matplotlib.figure.Figure at 0xdc2bc88>"
      ]
     },
     "metadata": {},
     "output_type": "display_data"
    },
    {
     "name": "stdout",
     "output_type": "stream",
     "text": [
      "For pooled weight we can see potential outliers to remove as a lot of points tend to go beyond the whiskers\n",
      "Again Using simple z-score based methods to identify outliers as we are dealing with just one variable in the dataset with        potential outliers hence not going for multivariate outlier detection models\n"
     ]
    },
    {
     "data": {
      "image/png": "[encoded data removed]",
      "text/plain": [
       "<matplotlib.figure.Figure at 0xfad2be0>"
      ]
     },
     "metadata": {},
     "output_type": "display_data"
    },
    {
     "name": "stdout",
     "output_type": "stream",
     "text": [
      "By setting z < 3 we have potentially removed most of the outliers as visible by the boxplot\n",
      "\n",
      "Replacing the outliers with median values\n"
     ]
    }
   ],
   "source": [
    "# Looking at pooled weight in base data (As we can see that age and panel have no outliers from the min max values and boxplot)\n",
    "#from sklearn.neighbors import LocalOutlierFactor\n",
    "\n",
    "\n",
    "import matplotlib.pyplot as plt\n",
    "base_ds_3.boxplot(column = ['age'])\n",
    "print ('For age all the data lies within the whiskers for the boxplot hence no potential outliers to remove')\n",
    "plt.show()\n",
    "base_ds_3.boxplot(column = ['pooledWeight'])\n",
    "plt.show()\n",
    "print ('For pooled weight we can see potential outliers to remove as a lot of points tend to go beyond the whiskers')\n",
    "\n",
    "print ('Again Using simple z-score based methods to identify outliers as we are dealing with just one variable in the dataset with \\\n",
    "       potential outliers hence not going for multivariate outlier detection models')\n",
    "\n",
    "\n",
    "a = base_ds_3.iloc[:,2]\n",
    "base_ds_3['poolw_zsc'] = (a - a.mean())/a.std()\n",
    "base_ds_3.loc[base_ds_3['poolw_zsc'] <3,['pooledWeight']].boxplot(column = ['pooledWeight'])\n",
    "plt.show()\n",
    "print ('By setting z < 3 we have potentially removed most of the outliers as visible by the boxplot')\n",
    "print ''\n",
    "print ('Replacing the outliers with median values')\n",
    "base_ds_3.loc[base_ds_3['poolw_zsc'] >3,'pooledWeight'] = base_ds_3['pooledWeight'].median()\n",
    "base_ds_3.drop('poolw_zsc',axis = 1, inplace = True)"
   ]
  },
  {
   "cell_type": "code",
   "execution_count": 7,
   "metadata": {},
   "outputs": [
    {
     "name": "stdout",
     "output_type": "stream",
     "text": [
      "Assumptions :\n",
      "If there are two entries with all the columns same they are assumed to be duplicate entries of the same instance hence all but one entry are removed\n",
      "If there are two entries for the same id with different rxStartMonth and StartYear we can assume that they are two seperate instances of the individual taking the medicine and we can add the quantities to get the total of the medicine taken by the individual\n",
      "If there are two entries for the same id with same rx name, start year and month but different rx Quantity or form or NDC they are assumed to be seperate instances and the qunaitites are got by adding such cases\n",
      "\n",
      "Considered as different unique events for the same individual in my approach\n",
      "             id  rxStartMonth  rxStartYear       rxName           rxNDC  \\\n",
      "24     10012102         5.000     2010.000  SIMVASTATIN 16714068201.000   \n",
      "30     10012102         5.000     2010.000  SIMVASTATIN 16714068201.000   \n",
      "31     10012102         5.000     2010.000  SIMVASTATIN 16714068202.000   \n",
      "44050  10012102         5.000     2010.000  SIMVASTATIN    93715356.000   \n",
      "\n",
      "       rxQuantity rxForm  \n",
      "24         90.000   TABS  \n",
      "30         30.000   TABS  \n",
      "31         30.000   TABS  \n",
      "44050      30.000   TABS  \n",
      "Transformed set\n",
      "rxQuantity same in both orignal and transformed\n"
     ]
    }
   ],
   "source": [
    "# # Getting the meds dataset ready for modelling\n",
    "from sklearn import preprocessing\n",
    "meds_ds_3 = meds_ds_3.drop(labels='rxQuantity_zsc', axis=1)\n",
    "\n",
    "print'Assumptions :'\n",
    "print 'If there are two entries with all the columns same they are assumed to be duplicate entries of the same instance hence all \\\n",
    "but one entry are removed'\n",
    "print 'If there are two entries for the same id with different rxStartMonth and StartYear we can assume that they are two seperate \\\n",
    "instances of the individual taking the medicine and we can add the quantities to get the total of the medicine taken by the \\\n",
    "individual'\n",
    "print 'If there are two entries for the same id with same rx name, start year and month but different rx Quantity or form or NDC \\\n",
    "they are assumed to be seperate instances and the qunaitites are got by adding such cases'\n",
    "print ('')\n",
    "print ('Considered as different unique events for the same individual in my approach')\n",
    "print meds_ds_3[(meds_ds_3['id']==10012102) & (meds_ds_3['rxStartMonth']==5) & (meds_ds_3['rxName']=='SIMVASTATIN')]\n",
    "\n",
    "# Grouping up the rxQuantity by the id and rxName \n",
    "meds_ds_4 = meds_ds_3.groupby(['id','rxName'],as_index= False)[['rxQuantity']].sum()\n",
    "\n",
    "#Encoding the rxnames so numbers to make the analysis look simpler\n",
    "\n",
    "le_rxname = preprocessing.LabelEncoder()\n",
    "le_rxname.fit(meds_ds_4['rxName'])\n",
    "meds_ds_4['rxName_tran'] = le_rxname.transform(meds_ds_4['rxName'])\n",
    "meds_ds_4.drop(labels='rxName', axis=1,inplace = True)\n",
    "\n",
    "# Trasnforming the rx names into columns and quanties into cell values (making id as unit of evaluation)\n",
    "meds_ds_pvt = meds_ds_4.pivot(index='id', columns='rxName_tran', values='rxQuantity').reset_index()\n",
    "meds_ds_pvt.fillna(0,inplace = True)\n",
    "pd.set_option('display.float_format', lambda x: '%.0f' % x)\n",
    "print 'Transformed set'\n",
    "meds_ds_pvt.head(10)\n",
    "\n",
    "# Checking transformed set data\n",
    "print 'rxQuantity same in both orignal and transformed' \\\n",
    "if round(meds_ds_pvt.iloc[:,1:].sum().sum()) == round(meds_ds_4['rxQuantity'].sum()) else 'rxQunatity not matching'"
   ]
  },
  {
   "cell_type": "markdown",
   "metadata": {},
   "source": [
    "#  Question - 1"
   ]
  },
  {
   "cell_type": "code",
   "execution_count": 8,
   "metadata": {},
   "outputs": [
    {
     "name": "stdout",
     "output_type": "stream",
     "text": [
      "There is one row per one id\n",
      "Top 3 Medications for each disease along with the Percent of Population who took the medicine of those who had the disease :\n",
      "chdDiagnosed:     [('SIMVASTATIN', 29.0), ('LISINOPRIL', 29.0), ('FUROSEMIDE', 26.0)]\n",
      "strokeDiagnosed:     [('SIMVASTATIN', 28.0), ('LISINOPRIL', 28.0), ('FUROSEMIDE', 23.0)]\n",
      "diabetesDiagnosed:     [('METFORMIN', 38.0), ('LISINOPRIL', 31.0), ('SIMVASTATIN', 26.0)]\n",
      "miDiagnosed:     [('LISINOPRIL', 32.0), ('SIMVASTATIN', 30.0), ('FUROSEMIDE', 27.0)]\n",
      "highBPDiagnosed:     [('LISINOPRIL', 29.0), ('SIMVASTATIN', 23.0), ('HYDROCHLOROTHIAZIDE', 18.0)]\n",
      "heartFailureDiagnosed:     [('FUROSEMIDE', 57.0), ('LISINOPRIL', 38.0), ('CARVEDILOL', 27.0)]\n",
      "anginaDiagnosed:     [('LISINOPRIL', 27.0), ('SIMVASTATIN', 27.0), ('FUROSEMIDE', 25.0)]\n",
      "otherHDDiagnosed:     [('LISINOPRIL', 25.0), ('SIMVASTATIN', 23.0), ('FUROSEMIDE', 22.0)]\n",
      "asthmaDiagnosed:     [('ALBUTEROL', 34.0), ('AMOXICILLIN', 27.0), ('AZITHROMYCIN', 27.0)]\n",
      "emphysemaDiagnosed:     [('LISINOPRIL', 24.0), ('ALBUTEROL', 23.0), ('SIMVASTATIN', 22.0)]\n"
     ]
    }
   ],
   "source": [
    "len(base_ds_3), len(base_ds_3['id'].unique()) # Checking if there are multiple rows for a single id or not\n",
    "print ('There is one row per one id')\n",
    "\n",
    "#Question - 1 (Top 3 common medication for each disease)\n",
    "\n",
    "Q_1_res = {}                            # Empty dict to store disease top medicine pairs\n",
    "for i in base_ds_3.columns[-10:]:\n",
    "    base_ds_3_sub = base_ds_3.loc[base_ds_3[i] == 'Yes',['id',i]]  # Creating a subset of base df of all those who had the disease\n",
    "    ds = meds_ds_pvt.merge(base_ds_3_sub,on= ['id'],how = 'right') # Merging to meds file\n",
    "    out = ds[ds.columns[1:-1]].astype(bool).sum(axis=0).sort_values(ascending = False).head(3) # Selecting top 3 medicines taken\n",
    "    \n",
    "    Q_1_res[i] = zip(list(le_rxname.inverse_transform(list(out.index))),((out/len(ds))*100).round()) # Calculating % and adding to\n",
    "    #le_rxname.inverse_transform(list(out.index))                                                    # dict along with medicine name\n",
    "\n",
    "print 'Top 3 Medications for each disease along with the Percent of Population who took the medicine of those who had the disease :'\n",
    "for i,j in Q_1_res.items():\n",
    "    print i + ':     ' + str(j)"
   ]
  },
  {
   "cell_type": "markdown",
   "metadata": {},
   "source": [
    "# Question - 2"
   ]
  },
  {
   "cell_type": "code",
   "execution_count": 9,
   "metadata": {},
   "outputs": [
    {
     "name": "stdout",
     "output_type": "stream",
     "text": [
      "Assuming that Inapplicable is No as well because if someone is Inapplicable he/she definitly does not have the condition       because they are inapplicable because of age etc or because probability for having the disease is almost 0 for them\n",
      "Also all the other fields including refused and not sure have been taken as no as well - Their counts are pretry insignificant       as well\n"
     ]
    }
   ],
   "source": [
    "# Q - 2 Most indicative medicines for each disease\n",
    "\n",
    "#Merging the whole base data with the transformed meds data\n",
    "merg_set = meds_ds_pvt.merge(base_ds_3,on= ['id'],how = 'right') # Right join as we want everyone from the base data set\n",
    "\n",
    "# Creating numeric variables out of Yes/No/Inapplicable/Refused ....\n",
    "\n",
    "print 'Assuming that Inapplicable is No as well because if someone is Inapplicable he/she definitly does not have the condition\\\n",
    "       because they are inapplicable because of age etc or because probability for having the disease is almost 0 for them'\n",
    "\n",
    "print 'Also all the other fields including refused and not sure have been taken as no as well - Their counts are pretry insignificant\\\n",
    "       as well'\n",
    "\n",
    "for i in merg_set.columns[-10:]:\n",
    "    merg_set[i] = merg_set[i].apply(lambda x: 1 if x == 'Yes' else 0 )\n",
    "\n",
    "# Filling the na values (because of those individuals who didnt take any medication) with 0\n",
    "merg_set.fillna(0,inplace = True)"
   ]
  },
  {
   "cell_type": "code",
   "execution_count": 10,
   "metadata": {},
   "outputs": [
    {
     "name": "stdout",
     "output_type": "stream",
     "text": [
      "chdDiagnosed:     [('CARVEDILOL', 0.1816), ('DIGOXIN', 0.1647), ('METOPROLOL', 0.1565)]\n",
      "strokeDiagnosed:     [('AGGRENOX', 0.1383), ('FUROSEMIDE', 0.1377), ('SIMVASTATIN', 0.1132)]\n",
      "diabetesDiagnosed:     [('METFORMIN', 0.402), ('ACTOS', 0.2658), ('TRUETRACK SMART SYSTEM (MONITOR)', 0.22)]\n",
      "miDiagnosed:     [('CARVEDILOL', 0.162), ('DIGOXIN', 0.1307), ('CARVEDILOL (FILM-COATED)', 0.1097)]\n",
      "highBPDiagnosed:     [('SIMVASTATIN', 0.2094), ('DIOVAN', 0.144), ('CARVEDILOL', 0.1132)]\n",
      "heartFailureDiagnosed:     [('FUROSEMIDE', 0.2791), ('CARVEDILOL', 0.1959), ('DIGOXIN', 0.1378)]\n",
      "anginaDiagnosed:     [('FUROSEMIDE', 0.1421), ('ISOSORB MONO', 0.1391), ('ISOSORBIDE MONONITRATE', 0.1313)]\n",
      "otherHDDiagnosed:     [('DIGOXIN', 0.1596), ('PLAVIX', 0.1549), ('CARVEDILOL', 0.1528)]\n",
      "asthmaDiagnosed:     [('ADVAIR DISKUS', 0.1519), ('ALBUTEROL', 0.1516), ('ADVAIR DISKU', 0.145)]\n",
      "emphysemaDiagnosed:     [('SPIRIVA', 0.2526), ('COMBIVENT', 0.1499), ('ALBUTEROL', 0.1448)]\n"
     ]
    }
   ],
   "source": [
    "res = {}   # Dictionary with top 3 most indicative medicines for each disease\n",
    "for j in merg_set.columns[-10:]:\n",
    "\n",
    "    corr = {}\n",
    "    a = merg_set[j]   \n",
    "    for i in merg_set.columns[1:-16]:\n",
    "        corr[i] = round(a.corr(merg_set[i]),4)   # Calc corr between one dependent variable and all IV's\n",
    "    ls = []\n",
    "    for i in corr.items():\n",
    "        ls.append(i)\n",
    "    srt = sorted(ls,key=operator.itemgetter((1)),reverse=True)  # Sorting the corr to get highest and lowest\n",
    "    # Getting Top 3 positive corr variables \n",
    "    fnl = srt[0:3]\n",
    "    \n",
    "    i = -1\n",
    "    # Getting all negetive corr variables where the corr is >0.2 in magnitude\n",
    "    while srt[i][1] < - 0.2:\n",
    "        fnl.append(srt[i])\n",
    "        i = i - 1\n",
    "    fnl_2 = []\n",
    "    for i in fnl:\n",
    "        fnl_2.append((le_rxname.inverse_transform(i[0]),i[1])) # Getting the medication names\n",
    "    res[j] = fnl_2\n",
    "for i,j in res.items():\n",
    "    print i + ':     ' + str(j)"
   ]
  },
  {
   "cell_type": "markdown",
   "metadata": {},
   "source": [
    "# Question -3"
   ]
  },
  {
   "cell_type": "code",
   "execution_count": 11,
   "metadata": {},
   "outputs": [
    {
     "name": "stderr",
     "output_type": "stream",
     "text": [
      "C:\\Users\\dhrugarg\\AppData\\Local\\Continuum\\anaconda2\\lib\\site-packages\\ipykernel_launcher.py:10: SettingWithCopyWarning: \n",
      "A value is trying to be set on a copy of a slice from a DataFrame.\n",
      "Try using .loc[row_indexer,col_indexer] = value instead\n",
      "\n",
      "See the caveats in the documentation: http://pandas.pydata.org/pandas-docs/stable/indexing.html#indexing-view-versus-copy\n",
      "  # Remove the CWD from sys.path while we load stuff.\n"
     ]
    }
   ],
   "source": [
    "# Q- 3 Build a model to predict any one of the diseases - predicting highBPDiagnosed (Cosndering the demographic variables also)\n",
    "\n",
    "merg_set_mod = merg_set[merg_set.columns[:-9]]\n",
    "\n",
    "# Encoding the sex,race and married variables :\n",
    "from collections import defaultdict\n",
    "enc = defaultdict(preprocessing.LabelEncoder)  # Creating a default dict of label encoders to remember each label for inverse later\n",
    "\n",
    "for i in merg_set_mod.columns[-4:-1]:\n",
    "    merg_set_mod[i] = enc[i].fit_transform(merg_set_mod[i])\n",
    "\n",
    "merg_set_mod.to_csv('Clover_modelling_set.csv')  # Moving to a second notebook beacuse of memory issues"
   ]
  },
  {
   "cell_type": "code",
   "execution_count": null,
   "metadata": {},
   "outputs": [],
   "source": []
  }
 ],
 "metadata": {
  "kernelspec": {
   "display_name": "Python 2",
   "language": "python",
   "name": "python2"
  },
  "language_info": {
   "codemirror_mode": {
    "name": "ipython",
    "version": 2
   },
   "file_extension": ".py",
   "mimetype": "text/x-python",
   "name": "python",
   "nbconvert_exporter": "python",
   "pygments_lexer": "ipython2",
   "version": "2.7.14"
  }
 },
 "nbformat": 4,
 "nbformat_minor": 2
}
